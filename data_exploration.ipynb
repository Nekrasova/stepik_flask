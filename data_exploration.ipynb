{
 "cells": [
  {
   "cell_type": "code",
   "execution_count": 30,
   "metadata": {},
   "outputs": [],
   "source": [
    "import json\n",
    "\n",
    "place = {\"title\":\"Shoney's\",\"open\":\"9 am – 8 pm\",\"phone\":\"00 44 22 888\",\"address\":\"3611 Rick Sanches ave\"}\n",
    "dumped = json.dumps(place)\n",
    "with open(\"static/data.json\", \"w+\") as f:\n",
    "    f.write(dumped)"
   ]
  },
  {
   "cell_type": "code",
   "execution_count": 32,
   "metadata": {},
   "outputs": [],
   "source": [
    "a = {\"title\": \"Shoney's\", \"open\": \"9 am \\u2013 8 pm\", \"phone\": \"00 44 22 888\", \"address\": \"3611 Rick Sanches ave\"}"
   ]
  },
  {
   "cell_type": "code",
   "execution_count": 34,
   "metadata": {},
   "outputs": [
    {
     "name": "stdout",
     "output_type": "stream",
     "text": [
      "['', {'title': \"Shoney's\", 'open': '9 am – 8 pm', 'phone': '00 44 22 888', 'address': '3611 Rick Sanches ave'}]\n"
     ]
    }
   ],
   "source": [
    "import pprint\n",
    "import json\n",
    "f = open(\"static/data.json\", 'a+')\n",
    "data = f.read()\n",
    "data = [data]\n",
    "data.append(a)\n",
    "print(data)\n",
    "f.close()\n",
    "\n",
    "\n"
   ]
  },
  {
   "cell_type": "code",
   "execution_count": 1,
   "metadata": {},
   "outputs": [],
   "source": [
    "a = {'mon': {'8:00': False,\n",
    "  '10:00': True,\n",
    "  '12:00': True,\n",
    "  '14:00': False,\n",
    "  '16:00': False,\n",
    "  '18:00': False,\n",
    "  '20:00': False,\n",
    "  '22:00': False},\n",
    " 'tue': {'8:00': True,\n",
    "  '10:00': True,\n",
    "  '12:00': False,\n",
    "  '14:00': False,\n",
    "  '16:00': False,\n",
    "  '18:00': False,\n",
    "  '20:00': False,\n",
    "  '22:00': False},\n",
    " 'wed': {'8:00': True,\n",
    "  '10:00': True,\n",
    "  '12:00': False,\n",
    "  '14:00': False,\n",
    "  '16:00': False,\n",
    "  '18:00': False,\n",
    "  '20:00': False,\n",
    "  '22:00': False},\n",
    " 'thu': {'8:00': True,\n",
    "  '10:00': True,\n",
    "  '12:00': False,\n",
    "  '14:00': False,\n",
    "  '16:00': False,\n",
    "  '18:00': False,\n",
    "  '20:00': False,\n",
    "  '22:00': False},\n",
    " 'fri': {'8:00': True,\n",
    "  '10:00': True,\n",
    "  '12:00': False,\n",
    "  '14:00': False,\n",
    "  '16:00': False,\n",
    "  '18:00': False,\n",
    "  '20:00': False,\n",
    "  '22:00': False},\n",
    " 'sat': {'8:00': False,\n",
    "  '10:00': False,\n",
    "  '12:00': False,\n",
    "  '14:00': False,\n",
    "  '16:00': True,\n",
    "  '18:00': True,\n",
    "  '20:00': True,\n",
    "  '22:00': False},\n",
    " 'sun': {'8:00': False,\n",
    "  '10:00': False,\n",
    "  '12:00': False,\n",
    "  '14:00': False,\n",
    "  '16:00': True,\n",
    "  '18:00': True,\n",
    "  '20:00': True,\n",
    "  '22:00': False}}"
   ]
  },
  {
   "cell_type": "code",
   "execution_count": 31,
   "metadata": {},
   "outputs": [],
   "source": [
    "teacher_schedule = {'mon': {'8:00': False,\n",
    "  '10:00': False,\n",
    "  '12:00': False,\n",
    "  '14:00': False,\n",
    "  '16:00': True,\n",
    "  '18:00': True,\n",
    "  '20:00': True,\n",
    "  '22:00': True},\n",
    " 'tue': {'8:00': False,\n",
    "  '10:00': False,\n",
    "  '12:00': False,\n",
    "  '14:00': False,\n",
    "  '16:00': True,\n",
    "  '18:00': True,\n",
    "  '20:00': True,\n",
    "  '22:00': True},\n",
    " 'wed': {'8:00': False,\n",
    "  '10:00': False,\n",
    "  '12:00': False,\n",
    "  '14:00': False,\n",
    "  '16:00': True,\n",
    "  '18:00': True,\n",
    "  '20:00': True,\n",
    "  '22:00': True},\n",
    " 'thu': {'8:00': False,\n",
    "  '10:00': False,\n",
    "  '12:00': False,\n",
    "  '14:00': False,\n",
    "  '16:00': True,\n",
    "  '18:00': True,\n",
    "  '20:00': True,\n",
    "  '22:00': True},\n",
    " 'fri': {'8:00': False,\n",
    "  '10:00': False,\n",
    "  '12:00': False,\n",
    "  '14:00': False,\n",
    "  '16:00': False,\n",
    "  '18:00': False,\n",
    "  '20:00': False,\n",
    "  '22:00': False},\n",
    " 'sat': {'8:00': False,\n",
    "  '10:00': False,\n",
    "  '12:00': False,\n",
    "  '14:00': False,\n",
    "  '16:00': False,\n",
    "  '18:00': False,\n",
    "  '20:00': False,\n",
    "  '22:00': False},\n",
    " 'sun': {'8:00': False,\n",
    "  '10:00': False,\n",
    "  '12:00': False,\n",
    "  '14:00': False,\n",
    "  '16:00': False,\n",
    "  '18:00': False,\n",
    "  '20:00': False,\n",
    "  '22:00': False}}"
   ]
  },
  {
   "cell_type": "code",
   "execution_count": 2,
   "metadata": {},
   "outputs": [
    {
     "data": {
      "text/plain": [
       "dict_keys(['mon', 'tue', 'wed', 'thu', 'fri', 'sat', 'sun'])"
      ]
     },
     "execution_count": 2,
     "metadata": {},
     "output_type": "execute_result"
    }
   ],
   "source": [
    "a.keys()"
   ]
  },
  {
   "cell_type": "code",
   "execution_count": 9,
   "metadata": {},
   "outputs": [
    {
     "data": {
      "text/plain": [
       "7"
      ]
     },
     "execution_count": 9,
     "metadata": {},
     "output_type": "execute_result"
    }
   ],
   "source": [
    "len(list(a.values()))"
   ]
  },
  {
   "cell_type": "code",
   "execution_count": 16,
   "metadata": {},
   "outputs": [
    {
     "data": {
      "text/plain": [
       "{'8:00': False,\n",
       " '10:00': True,\n",
       " '12:00': True,\n",
       " '14:00': False,\n",
       " '16:00': False,\n",
       " '18:00': False,\n",
       " '20:00': False,\n",
       " '22:00': False}"
      ]
     },
     "execution_count": 16,
     "metadata": {},
     "output_type": "execute_result"
    }
   ],
   "source": [
    "b"
   ]
  },
  {
   "cell_type": "code",
   "execution_count": 15,
   "metadata": {},
   "outputs": [],
   "source": [
    "b = [a[x] for x in a if x == 'mon'][0]"
   ]
  },
  {
   "cell_type": "code",
   "execution_count": 18,
   "metadata": {},
   "outputs": [
    {
     "data": {
      "text/plain": [
       "['10:00', '12:00']"
      ]
     },
     "execution_count": 18,
     "metadata": {},
     "output_type": "execute_result"
    }
   ],
   "source": [
    "[x for x in b if b[x] == True]"
   ]
  },
  {
   "cell_type": "code",
   "execution_count": 42,
   "metadata": {},
   "outputs": [
    {
     "name": "stdout",
     "output_type": "stream",
     "text": [
      "mon ['16:00', '18:00', '20:00', '22:00']\n",
      "tue ['16:00', '18:00', '20:00', '22:00']\n",
      "wed ['16:00', '18:00', '20:00', '22:00']\n",
      "thu ['16:00', '18:00', '20:00', '22:00']\n",
      "fri No classes\n",
      "sat No classes\n",
      "sun No classes\n"
     ]
    }
   ],
   "source": [
    "sch = {}\n",
    "for day in teacher_schedule.keys():\n",
    "    hours = [teacher_schedule[x] for x in teacher_schedule if x == day][0]\n",
    "    if len(list([y for y in hours if hours[y] == True])) == 0:\n",
    "        sch.update({day:'No classes'})\n",
    "#         classes = list([y for y in hours if hours[y] == True])\n",
    "        print(day, 'No classes')\n",
    "    else:\n",
    "        sch.update({day:list([y for y in hours if hours[y] == True])})\n",
    "        print(day, list([y for y in hours if hours[y] == True]))"
   ]
  },
  {
   "cell_type": "code",
   "execution_count": 44,
   "metadata": {},
   "outputs": [
    {
     "data": {
      "text/plain": [
       "dict_values([['16:00', '18:00', '20:00', '22:00'], ['16:00', '18:00', '20:00', '22:00'], ['16:00', '18:00', '20:00', '22:00'], ['16:00', '18:00', '20:00', '22:00'], 'No classes', 'No classes', 'No classes'])"
      ]
     },
     "execution_count": 44,
     "metadata": {},
     "output_type": "execute_result"
    }
   ],
   "source": [
    "sch.values()"
   ]
  },
  {
   "cell_type": "code",
   "execution_count": 62,
   "metadata": {},
   "outputs": [],
   "source": [
    "a = ' 7 999 999 99 99'"
   ]
  },
  {
   "cell_type": "code",
   "execution_count": 58,
   "metadata": {},
   "outputs": [
    {
     "data": {
      "text/plain": [
       "False"
      ]
     },
     "execution_count": 58,
     "metadata": {},
     "output_type": "execute_result"
    }
   ],
   "source": [
    "a.strip(' ').isnumeric()"
   ]
  },
  {
   "cell_type": "code",
   "execution_count": 59,
   "metadata": {},
   "outputs": [
    {
     "data": {
      "text/plain": [
       "'7 999 999 99 99'"
      ]
     },
     "execution_count": 59,
     "metadata": {},
     "output_type": "execute_result"
    }
   ],
   "source": [
    "\" \".join(a.split())"
   ]
  },
  {
   "cell_type": "code",
   "execution_count": 63,
   "metadata": {},
   "outputs": [
    {
     "data": {
      "text/plain": [
       "True"
      ]
     },
     "execution_count": 63,
     "metadata": {},
     "output_type": "execute_result"
    }
   ],
   "source": [
    "a.translate({ord(c): None for c in string.whitespace}).isnumeric()"
   ]
  },
  {
   "cell_type": "code",
   "execution_count": 61,
   "metadata": {},
   "outputs": [],
   "source": [
    "import string"
   ]
  },
  {
   "cell_type": "code",
   "execution_count": null,
   "metadata": {},
   "outputs": [],
   "source": []
  }
 ],
 "metadata": {
  "kernelspec": {
   "display_name": "PyCharm (Stepic_Flask_Week_3)",
   "language": "python",
   "name": "pycharm-385b9e1b"
  },
  "language_info": {
   "codemirror_mode": {
    "name": "ipython",
    "version": 3
   },
   "file_extension": ".py",
   "mimetype": "text/x-python",
   "name": "python",
   "nbconvert_exporter": "python",
   "pygments_lexer": "ipython3",
   "version": "3.7.4"
  }
 },
 "nbformat": 4,
 "nbformat_minor": 1
}
